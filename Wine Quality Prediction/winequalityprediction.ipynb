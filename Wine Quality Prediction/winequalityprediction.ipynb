{
 "cells": [
  {
   "cell_type": "markdown",
   "id": "7f42150d",
   "metadata": {},
   "source": [
    "<h3 style='text-align: center;'>CodeClause</h3>\n",
    "<h1 align=\"center\">Wine Quality Prediction</h1> \n",
    "<div style=\"text-align: right\">Created<br>\n",
    "-- by Ruhit Debnath<br>\n",
    "-- for CodeClause<br>\n",
    "-- June, 2023</div>"
   ]
  },
  {
   "cell_type": "code",
   "execution_count": 1,
   "id": "d5338a04",
   "metadata": {
    "execution": {
     "iopub.execute_input": "2023-03-16T19:57:03.192833Z",
     "iopub.status.busy": "2023-03-16T19:57:03.192372Z",
     "iopub.status.idle": "2023-03-16T19:57:04.665287Z",
     "shell.execute_reply": "2023-03-16T19:57:04.663978Z"
    },
    "papermill": {
     "duration": 1.484286,
     "end_time": "2023-03-16T19:57:04.668130",
     "exception": false,
     "start_time": "2023-03-16T19:57:03.183844",
     "status": "completed"
    },
    "tags": []
   },
   "outputs": [],
   "source": [
    "import pandas as pd\n",
    "import numpy as np\n",
    "import matplotlib.pyplot as plt\n",
    "import seaborn as sns\n",
    "from sklearn.model_selection import train_test_split\n",
    "from sklearn.ensemble import RandomForestClassifier \n",
    "from sklearn.metrics import accuracy_score \n",
    "import warnings \n",
    "warnings.filterwarnings('ignore')"
   ]
  },
  {
   "cell_type": "code",
   "execution_count": 2,
   "id": "c3647a35",
   "metadata": {
    "execution": {
     "iopub.execute_input": "2023-03-16T19:57:04.690779Z",
     "iopub.status.busy": "2023-03-16T19:57:04.689471Z",
     "iopub.status.idle": "2023-03-16T19:57:04.739416Z",
     "shell.execute_reply": "2023-03-16T19:57:04.738116Z"
    },
    "papermill": {
     "duration": 0.059126,
     "end_time": "2023-03-16T19:57:04.742147",
     "exception": false,
     "start_time": "2023-03-16T19:57:04.683021",
     "status": "completed"
    },
    "tags": []
   },
   "outputs": [
    {
     "data": {
      "text/html": [
       "<div>\n",
       "<style scoped>\n",
       "    .dataframe tbody tr th:only-of-type {\n",
       "        vertical-align: middle;\n",
       "    }\n",
       "\n",
       "    .dataframe tbody tr th {\n",
       "        vertical-align: top;\n",
       "    }\n",
       "\n",
       "    .dataframe thead th {\n",
       "        text-align: right;\n",
       "    }\n",
       "</style>\n",
       "<table border=\"1\" class=\"dataframe\">\n",
       "  <thead>\n",
       "    <tr style=\"text-align: right;\">\n",
       "      <th></th>\n",
       "      <th>fixed acidity</th>\n",
       "      <th>volatile acidity</th>\n",
       "      <th>citric acid</th>\n",
       "      <th>residual sugar</th>\n",
       "      <th>chlorides</th>\n",
       "      <th>free sulfur dioxide</th>\n",
       "      <th>total sulfur dioxide</th>\n",
       "      <th>density</th>\n",
       "      <th>pH</th>\n",
       "      <th>sulphates</th>\n",
       "      <th>alcohol</th>\n",
       "      <th>quality</th>\n",
       "      <th>Id</th>\n",
       "    </tr>\n",
       "  </thead>\n",
       "  <tbody>\n",
       "    <tr>\n",
       "      <th>0</th>\n",
       "      <td>7.4</td>\n",
       "      <td>0.700</td>\n",
       "      <td>0.00</td>\n",
       "      <td>1.9</td>\n",
       "      <td>0.076</td>\n",
       "      <td>11.0</td>\n",
       "      <td>34.0</td>\n",
       "      <td>0.99780</td>\n",
       "      <td>3.51</td>\n",
       "      <td>0.56</td>\n",
       "      <td>9.4</td>\n",
       "      <td>5</td>\n",
       "      <td>0</td>\n",
       "    </tr>\n",
       "    <tr>\n",
       "      <th>1</th>\n",
       "      <td>7.8</td>\n",
       "      <td>0.880</td>\n",
       "      <td>0.00</td>\n",
       "      <td>2.6</td>\n",
       "      <td>0.098</td>\n",
       "      <td>25.0</td>\n",
       "      <td>67.0</td>\n",
       "      <td>0.99680</td>\n",
       "      <td>3.20</td>\n",
       "      <td>0.68</td>\n",
       "      <td>9.8</td>\n",
       "      <td>5</td>\n",
       "      <td>1</td>\n",
       "    </tr>\n",
       "    <tr>\n",
       "      <th>2</th>\n",
       "      <td>7.8</td>\n",
       "      <td>0.760</td>\n",
       "      <td>0.04</td>\n",
       "      <td>2.3</td>\n",
       "      <td>0.092</td>\n",
       "      <td>15.0</td>\n",
       "      <td>54.0</td>\n",
       "      <td>0.99700</td>\n",
       "      <td>3.26</td>\n",
       "      <td>0.65</td>\n",
       "      <td>9.8</td>\n",
       "      <td>5</td>\n",
       "      <td>2</td>\n",
       "    </tr>\n",
       "    <tr>\n",
       "      <th>3</th>\n",
       "      <td>11.2</td>\n",
       "      <td>0.280</td>\n",
       "      <td>0.56</td>\n",
       "      <td>1.9</td>\n",
       "      <td>0.075</td>\n",
       "      <td>17.0</td>\n",
       "      <td>60.0</td>\n",
       "      <td>0.99800</td>\n",
       "      <td>3.16</td>\n",
       "      <td>0.58</td>\n",
       "      <td>9.8</td>\n",
       "      <td>6</td>\n",
       "      <td>3</td>\n",
       "    </tr>\n",
       "    <tr>\n",
       "      <th>4</th>\n",
       "      <td>7.4</td>\n",
       "      <td>0.700</td>\n",
       "      <td>0.00</td>\n",
       "      <td>1.9</td>\n",
       "      <td>0.076</td>\n",
       "      <td>11.0</td>\n",
       "      <td>34.0</td>\n",
       "      <td>0.99780</td>\n",
       "      <td>3.51</td>\n",
       "      <td>0.56</td>\n",
       "      <td>9.4</td>\n",
       "      <td>5</td>\n",
       "      <td>4</td>\n",
       "    </tr>\n",
       "    <tr>\n",
       "      <th>...</th>\n",
       "      <td>...</td>\n",
       "      <td>...</td>\n",
       "      <td>...</td>\n",
       "      <td>...</td>\n",
       "      <td>...</td>\n",
       "      <td>...</td>\n",
       "      <td>...</td>\n",
       "      <td>...</td>\n",
       "      <td>...</td>\n",
       "      <td>...</td>\n",
       "      <td>...</td>\n",
       "      <td>...</td>\n",
       "      <td>...</td>\n",
       "    </tr>\n",
       "    <tr>\n",
       "      <th>1138</th>\n",
       "      <td>6.3</td>\n",
       "      <td>0.510</td>\n",
       "      <td>0.13</td>\n",
       "      <td>2.3</td>\n",
       "      <td>0.076</td>\n",
       "      <td>29.0</td>\n",
       "      <td>40.0</td>\n",
       "      <td>0.99574</td>\n",
       "      <td>3.42</td>\n",
       "      <td>0.75</td>\n",
       "      <td>11.0</td>\n",
       "      <td>6</td>\n",
       "      <td>1592</td>\n",
       "    </tr>\n",
       "    <tr>\n",
       "      <th>1139</th>\n",
       "      <td>6.8</td>\n",
       "      <td>0.620</td>\n",
       "      <td>0.08</td>\n",
       "      <td>1.9</td>\n",
       "      <td>0.068</td>\n",
       "      <td>28.0</td>\n",
       "      <td>38.0</td>\n",
       "      <td>0.99651</td>\n",
       "      <td>3.42</td>\n",
       "      <td>0.82</td>\n",
       "      <td>9.5</td>\n",
       "      <td>6</td>\n",
       "      <td>1593</td>\n",
       "    </tr>\n",
       "    <tr>\n",
       "      <th>1140</th>\n",
       "      <td>6.2</td>\n",
       "      <td>0.600</td>\n",
       "      <td>0.08</td>\n",
       "      <td>2.0</td>\n",
       "      <td>0.090</td>\n",
       "      <td>32.0</td>\n",
       "      <td>44.0</td>\n",
       "      <td>0.99490</td>\n",
       "      <td>3.45</td>\n",
       "      <td>0.58</td>\n",
       "      <td>10.5</td>\n",
       "      <td>5</td>\n",
       "      <td>1594</td>\n",
       "    </tr>\n",
       "    <tr>\n",
       "      <th>1141</th>\n",
       "      <td>5.9</td>\n",
       "      <td>0.550</td>\n",
       "      <td>0.10</td>\n",
       "      <td>2.2</td>\n",
       "      <td>0.062</td>\n",
       "      <td>39.0</td>\n",
       "      <td>51.0</td>\n",
       "      <td>0.99512</td>\n",
       "      <td>3.52</td>\n",
       "      <td>0.76</td>\n",
       "      <td>11.2</td>\n",
       "      <td>6</td>\n",
       "      <td>1595</td>\n",
       "    </tr>\n",
       "    <tr>\n",
       "      <th>1142</th>\n",
       "      <td>5.9</td>\n",
       "      <td>0.645</td>\n",
       "      <td>0.12</td>\n",
       "      <td>2.0</td>\n",
       "      <td>0.075</td>\n",
       "      <td>32.0</td>\n",
       "      <td>44.0</td>\n",
       "      <td>0.99547</td>\n",
       "      <td>3.57</td>\n",
       "      <td>0.71</td>\n",
       "      <td>10.2</td>\n",
       "      <td>5</td>\n",
       "      <td>1597</td>\n",
       "    </tr>\n",
       "  </tbody>\n",
       "</table>\n",
       "<p>1143 rows × 13 columns</p>\n",
       "</div>"
      ],
      "text/plain": [
       "      fixed acidity  volatile acidity  citric acid  residual sugar  chlorides  \\\n",
       "0               7.4             0.700         0.00             1.9      0.076   \n",
       "1               7.8             0.880         0.00             2.6      0.098   \n",
       "2               7.8             0.760         0.04             2.3      0.092   \n",
       "3              11.2             0.280         0.56             1.9      0.075   \n",
       "4               7.4             0.700         0.00             1.9      0.076   \n",
       "...             ...               ...          ...             ...        ...   \n",
       "1138            6.3             0.510         0.13             2.3      0.076   \n",
       "1139            6.8             0.620         0.08             1.9      0.068   \n",
       "1140            6.2             0.600         0.08             2.0      0.090   \n",
       "1141            5.9             0.550         0.10             2.2      0.062   \n",
       "1142            5.9             0.645         0.12             2.0      0.075   \n",
       "\n",
       "      free sulfur dioxide  total sulfur dioxide  density    pH  sulphates  \\\n",
       "0                    11.0                  34.0  0.99780  3.51       0.56   \n",
       "1                    25.0                  67.0  0.99680  3.20       0.68   \n",
       "2                    15.0                  54.0  0.99700  3.26       0.65   \n",
       "3                    17.0                  60.0  0.99800  3.16       0.58   \n",
       "4                    11.0                  34.0  0.99780  3.51       0.56   \n",
       "...                   ...                   ...      ...   ...        ...   \n",
       "1138                 29.0                  40.0  0.99574  3.42       0.75   \n",
       "1139                 28.0                  38.0  0.99651  3.42       0.82   \n",
       "1140                 32.0                  44.0  0.99490  3.45       0.58   \n",
       "1141                 39.0                  51.0  0.99512  3.52       0.76   \n",
       "1142                 32.0                  44.0  0.99547  3.57       0.71   \n",
       "\n",
       "      alcohol  quality    Id  \n",
       "0         9.4        5     0  \n",
       "1         9.8        5     1  \n",
       "2         9.8        5     2  \n",
       "3         9.8        6     3  \n",
       "4         9.4        5     4  \n",
       "...       ...      ...   ...  \n",
       "1138     11.0        6  1592  \n",
       "1139      9.5        6  1593  \n",
       "1140     10.5        5  1594  \n",
       "1141     11.2        6  1595  \n",
       "1142     10.2        5  1597  \n",
       "\n",
       "[1143 rows x 13 columns]"
      ]
     },
     "execution_count": 2,
     "metadata": {},
     "output_type": "execute_result"
    }
   ],
   "source": [
    "#Import the dataset to a dataframe\n",
    "df=pd.read_csv('WineQT.csv')\n",
    "df"
   ]
  },
  {
   "cell_type": "code",
   "execution_count": 3,
   "id": "d7c42592",
   "metadata": {
    "execution": {
     "iopub.execute_input": "2023-03-16T19:57:04.755783Z",
     "iopub.status.busy": "2023-03-16T19:57:04.755104Z",
     "iopub.status.idle": "2023-03-16T19:57:04.762210Z",
     "shell.execute_reply": "2023-03-16T19:57:04.761068Z"
    },
    "papermill": {
     "duration": 0.016684,
     "end_time": "2023-03-16T19:57:04.764817",
     "exception": false,
     "start_time": "2023-03-16T19:57:04.748133",
     "status": "completed"
    },
    "tags": []
   },
   "outputs": [
    {
     "data": {
      "text/plain": [
       "(1143, 13)"
      ]
     },
     "execution_count": 3,
     "metadata": {},
     "output_type": "execute_result"
    }
   ],
   "source": [
    "#Number of rows and columns in the dataset\n",
    "df.shape"
   ]
  },
  {
   "cell_type": "code",
   "execution_count": 4,
   "id": "cf60f9b5",
   "metadata": {
    "execution": {
     "iopub.execute_input": "2023-03-16T19:57:04.777601Z",
     "iopub.status.busy": "2023-03-16T19:57:04.776974Z",
     "iopub.status.idle": "2023-03-16T19:57:04.797038Z",
     "shell.execute_reply": "2023-03-16T19:57:04.795830Z"
    },
    "papermill": {
     "duration": 0.029049,
     "end_time": "2023-03-16T19:57:04.799553",
     "exception": false,
     "start_time": "2023-03-16T19:57:04.770504",
     "status": "completed"
    },
    "tags": []
   },
   "outputs": [
    {
     "data": {
      "text/html": [
       "<div>\n",
       "<style scoped>\n",
       "    .dataframe tbody tr th:only-of-type {\n",
       "        vertical-align: middle;\n",
       "    }\n",
       "\n",
       "    .dataframe tbody tr th {\n",
       "        vertical-align: top;\n",
       "    }\n",
       "\n",
       "    .dataframe thead th {\n",
       "        text-align: right;\n",
       "    }\n",
       "</style>\n",
       "<table border=\"1\" class=\"dataframe\">\n",
       "  <thead>\n",
       "    <tr style=\"text-align: right;\">\n",
       "      <th></th>\n",
       "      <th>fixed acidity</th>\n",
       "      <th>volatile acidity</th>\n",
       "      <th>citric acid</th>\n",
       "      <th>residual sugar</th>\n",
       "      <th>chlorides</th>\n",
       "      <th>free sulfur dioxide</th>\n",
       "      <th>total sulfur dioxide</th>\n",
       "      <th>density</th>\n",
       "      <th>pH</th>\n",
       "      <th>sulphates</th>\n",
       "      <th>alcohol</th>\n",
       "      <th>quality</th>\n",
       "      <th>Id</th>\n",
       "    </tr>\n",
       "  </thead>\n",
       "  <tbody>\n",
       "    <tr>\n",
       "      <th>0</th>\n",
       "      <td>7.4</td>\n",
       "      <td>0.70</td>\n",
       "      <td>0.00</td>\n",
       "      <td>1.9</td>\n",
       "      <td>0.076</td>\n",
       "      <td>11.0</td>\n",
       "      <td>34.0</td>\n",
       "      <td>0.9978</td>\n",
       "      <td>3.51</td>\n",
       "      <td>0.56</td>\n",
       "      <td>9.4</td>\n",
       "      <td>5</td>\n",
       "      <td>0</td>\n",
       "    </tr>\n",
       "    <tr>\n",
       "      <th>1</th>\n",
       "      <td>7.8</td>\n",
       "      <td>0.88</td>\n",
       "      <td>0.00</td>\n",
       "      <td>2.6</td>\n",
       "      <td>0.098</td>\n",
       "      <td>25.0</td>\n",
       "      <td>67.0</td>\n",
       "      <td>0.9968</td>\n",
       "      <td>3.20</td>\n",
       "      <td>0.68</td>\n",
       "      <td>9.8</td>\n",
       "      <td>5</td>\n",
       "      <td>1</td>\n",
       "    </tr>\n",
       "    <tr>\n",
       "      <th>2</th>\n",
       "      <td>7.8</td>\n",
       "      <td>0.76</td>\n",
       "      <td>0.04</td>\n",
       "      <td>2.3</td>\n",
       "      <td>0.092</td>\n",
       "      <td>15.0</td>\n",
       "      <td>54.0</td>\n",
       "      <td>0.9970</td>\n",
       "      <td>3.26</td>\n",
       "      <td>0.65</td>\n",
       "      <td>9.8</td>\n",
       "      <td>5</td>\n",
       "      <td>2</td>\n",
       "    </tr>\n",
       "    <tr>\n",
       "      <th>3</th>\n",
       "      <td>11.2</td>\n",
       "      <td>0.28</td>\n",
       "      <td>0.56</td>\n",
       "      <td>1.9</td>\n",
       "      <td>0.075</td>\n",
       "      <td>17.0</td>\n",
       "      <td>60.0</td>\n",
       "      <td>0.9980</td>\n",
       "      <td>3.16</td>\n",
       "      <td>0.58</td>\n",
       "      <td>9.8</td>\n",
       "      <td>6</td>\n",
       "      <td>3</td>\n",
       "    </tr>\n",
       "    <tr>\n",
       "      <th>4</th>\n",
       "      <td>7.4</td>\n",
       "      <td>0.70</td>\n",
       "      <td>0.00</td>\n",
       "      <td>1.9</td>\n",
       "      <td>0.076</td>\n",
       "      <td>11.0</td>\n",
       "      <td>34.0</td>\n",
       "      <td>0.9978</td>\n",
       "      <td>3.51</td>\n",
       "      <td>0.56</td>\n",
       "      <td>9.4</td>\n",
       "      <td>5</td>\n",
       "      <td>4</td>\n",
       "    </tr>\n",
       "  </tbody>\n",
       "</table>\n",
       "</div>"
      ],
      "text/plain": [
       "   fixed acidity  volatile acidity  citric acid  residual sugar  chlorides  \\\n",
       "0            7.4              0.70         0.00             1.9      0.076   \n",
       "1            7.8              0.88         0.00             2.6      0.098   \n",
       "2            7.8              0.76         0.04             2.3      0.092   \n",
       "3           11.2              0.28         0.56             1.9      0.075   \n",
       "4            7.4              0.70         0.00             1.9      0.076   \n",
       "\n",
       "   free sulfur dioxide  total sulfur dioxide  density    pH  sulphates  \\\n",
       "0                 11.0                  34.0   0.9978  3.51       0.56   \n",
       "1                 25.0                  67.0   0.9968  3.20       0.68   \n",
       "2                 15.0                  54.0   0.9970  3.26       0.65   \n",
       "3                 17.0                  60.0   0.9980  3.16       0.58   \n",
       "4                 11.0                  34.0   0.9978  3.51       0.56   \n",
       "\n",
       "   alcohol  quality  Id  \n",
       "0      9.4        5   0  \n",
       "1      9.8        5   1  \n",
       "2      9.8        5   2  \n",
       "3      9.8        6   3  \n",
       "4      9.4        5   4  "
      ]
     },
     "execution_count": 4,
     "metadata": {},
     "output_type": "execute_result"
    }
   ],
   "source": [
    "#first 5 rows of the dataset\n",
    "df.head()"
   ]
  },
  {
   "cell_type": "code",
   "execution_count": 5,
   "id": "0975cf0b",
   "metadata": {
    "execution": {
     "iopub.execute_input": "2023-03-16T19:57:04.813341Z",
     "iopub.status.busy": "2023-03-16T19:57:04.812449Z",
     "iopub.status.idle": "2023-03-16T19:57:04.821622Z",
     "shell.execute_reply": "2023-03-16T19:57:04.820792Z"
    },
    "papermill": {
     "duration": 0.018355,
     "end_time": "2023-03-16T19:57:04.823688",
     "exception": false,
     "start_time": "2023-03-16T19:57:04.805333",
     "status": "completed"
    },
    "tags": []
   },
   "outputs": [
    {
     "data": {
      "text/plain": [
       "fixed acidity           0\n",
       "volatile acidity        0\n",
       "citric acid             0\n",
       "residual sugar          0\n",
       "chlorides               0\n",
       "free sulfur dioxide     0\n",
       "total sulfur dioxide    0\n",
       "density                 0\n",
       "pH                      0\n",
       "sulphates               0\n",
       "alcohol                 0\n",
       "quality                 0\n",
       "Id                      0\n",
       "dtype: int64"
      ]
     },
     "execution_count": 5,
     "metadata": {},
     "output_type": "execute_result"
    }
   ],
   "source": [
    "#Checking for missing values \n",
    "df.isnull().sum()"
   ]
  },
  {
   "cell_type": "code",
   "execution_count": 6,
   "id": "b2cb541b",
   "metadata": {
    "execution": {
     "iopub.execute_input": "2023-03-16T19:57:04.837683Z",
     "iopub.status.busy": "2023-03-16T19:57:04.836647Z",
     "iopub.status.idle": "2023-03-16T19:57:04.898966Z",
     "shell.execute_reply": "2023-03-16T19:57:04.897714Z"
    },
    "papermill": {
     "duration": 0.071723,
     "end_time": "2023-03-16T19:57:04.901340",
     "exception": false,
     "start_time": "2023-03-16T19:57:04.829617",
     "status": "completed"
    },
    "tags": []
   },
   "outputs": [
    {
     "data": {
      "text/html": [
       "<div>\n",
       "<style scoped>\n",
       "    .dataframe tbody tr th:only-of-type {\n",
       "        vertical-align: middle;\n",
       "    }\n",
       "\n",
       "    .dataframe tbody tr th {\n",
       "        vertical-align: top;\n",
       "    }\n",
       "\n",
       "    .dataframe thead th {\n",
       "        text-align: right;\n",
       "    }\n",
       "</style>\n",
       "<table border=\"1\" class=\"dataframe\">\n",
       "  <thead>\n",
       "    <tr style=\"text-align: right;\">\n",
       "      <th></th>\n",
       "      <th>fixed acidity</th>\n",
       "      <th>volatile acidity</th>\n",
       "      <th>citric acid</th>\n",
       "      <th>residual sugar</th>\n",
       "      <th>chlorides</th>\n",
       "      <th>free sulfur dioxide</th>\n",
       "      <th>total sulfur dioxide</th>\n",
       "      <th>density</th>\n",
       "      <th>pH</th>\n",
       "      <th>sulphates</th>\n",
       "      <th>alcohol</th>\n",
       "      <th>quality</th>\n",
       "      <th>Id</th>\n",
       "    </tr>\n",
       "  </thead>\n",
       "  <tbody>\n",
       "    <tr>\n",
       "      <th>count</th>\n",
       "      <td>1143.00</td>\n",
       "      <td>1143.00</td>\n",
       "      <td>1143.00</td>\n",
       "      <td>1143.00</td>\n",
       "      <td>1143.00</td>\n",
       "      <td>1143.00</td>\n",
       "      <td>1143.00</td>\n",
       "      <td>1143.00</td>\n",
       "      <td>1143.00</td>\n",
       "      <td>1143.00</td>\n",
       "      <td>1143.00</td>\n",
       "      <td>1143.00</td>\n",
       "      <td>1143.00</td>\n",
       "    </tr>\n",
       "    <tr>\n",
       "      <th>mean</th>\n",
       "      <td>8.31</td>\n",
       "      <td>0.53</td>\n",
       "      <td>0.27</td>\n",
       "      <td>2.53</td>\n",
       "      <td>0.09</td>\n",
       "      <td>15.62</td>\n",
       "      <td>45.91</td>\n",
       "      <td>1.00</td>\n",
       "      <td>3.31</td>\n",
       "      <td>0.66</td>\n",
       "      <td>10.44</td>\n",
       "      <td>5.66</td>\n",
       "      <td>804.97</td>\n",
       "    </tr>\n",
       "    <tr>\n",
       "      <th>std</th>\n",
       "      <td>1.75</td>\n",
       "      <td>0.18</td>\n",
       "      <td>0.20</td>\n",
       "      <td>1.36</td>\n",
       "      <td>0.05</td>\n",
       "      <td>10.25</td>\n",
       "      <td>32.78</td>\n",
       "      <td>0.00</td>\n",
       "      <td>0.16</td>\n",
       "      <td>0.17</td>\n",
       "      <td>1.08</td>\n",
       "      <td>0.81</td>\n",
       "      <td>464.00</td>\n",
       "    </tr>\n",
       "    <tr>\n",
       "      <th>min</th>\n",
       "      <td>4.60</td>\n",
       "      <td>0.12</td>\n",
       "      <td>0.00</td>\n",
       "      <td>0.90</td>\n",
       "      <td>0.01</td>\n",
       "      <td>1.00</td>\n",
       "      <td>6.00</td>\n",
       "      <td>0.99</td>\n",
       "      <td>2.74</td>\n",
       "      <td>0.33</td>\n",
       "      <td>8.40</td>\n",
       "      <td>3.00</td>\n",
       "      <td>0.00</td>\n",
       "    </tr>\n",
       "    <tr>\n",
       "      <th>25%</th>\n",
       "      <td>7.10</td>\n",
       "      <td>0.39</td>\n",
       "      <td>0.09</td>\n",
       "      <td>1.90</td>\n",
       "      <td>0.07</td>\n",
       "      <td>7.00</td>\n",
       "      <td>21.00</td>\n",
       "      <td>1.00</td>\n",
       "      <td>3.20</td>\n",
       "      <td>0.55</td>\n",
       "      <td>9.50</td>\n",
       "      <td>5.00</td>\n",
       "      <td>411.00</td>\n",
       "    </tr>\n",
       "    <tr>\n",
       "      <th>50%</th>\n",
       "      <td>7.90</td>\n",
       "      <td>0.52</td>\n",
       "      <td>0.25</td>\n",
       "      <td>2.20</td>\n",
       "      <td>0.08</td>\n",
       "      <td>13.00</td>\n",
       "      <td>37.00</td>\n",
       "      <td>1.00</td>\n",
       "      <td>3.31</td>\n",
       "      <td>0.62</td>\n",
       "      <td>10.20</td>\n",
       "      <td>6.00</td>\n",
       "      <td>794.00</td>\n",
       "    </tr>\n",
       "    <tr>\n",
       "      <th>75%</th>\n",
       "      <td>9.10</td>\n",
       "      <td>0.64</td>\n",
       "      <td>0.42</td>\n",
       "      <td>2.60</td>\n",
       "      <td>0.09</td>\n",
       "      <td>21.00</td>\n",
       "      <td>61.00</td>\n",
       "      <td>1.00</td>\n",
       "      <td>3.40</td>\n",
       "      <td>0.73</td>\n",
       "      <td>11.10</td>\n",
       "      <td>6.00</td>\n",
       "      <td>1209.50</td>\n",
       "    </tr>\n",
       "    <tr>\n",
       "      <th>max</th>\n",
       "      <td>15.90</td>\n",
       "      <td>1.58</td>\n",
       "      <td>1.00</td>\n",
       "      <td>15.50</td>\n",
       "      <td>0.61</td>\n",
       "      <td>68.00</td>\n",
       "      <td>289.00</td>\n",
       "      <td>1.00</td>\n",
       "      <td>4.01</td>\n",
       "      <td>2.00</td>\n",
       "      <td>14.90</td>\n",
       "      <td>8.00</td>\n",
       "      <td>1597.00</td>\n",
       "    </tr>\n",
       "  </tbody>\n",
       "</table>\n",
       "</div>"
      ],
      "text/plain": [
       "       fixed acidity  volatile acidity  citric acid  residual sugar  \\\n",
       "count        1143.00           1143.00      1143.00         1143.00   \n",
       "mean            8.31              0.53         0.27            2.53   \n",
       "std             1.75              0.18         0.20            1.36   \n",
       "min             4.60              0.12         0.00            0.90   \n",
       "25%             7.10              0.39         0.09            1.90   \n",
       "50%             7.90              0.52         0.25            2.20   \n",
       "75%             9.10              0.64         0.42            2.60   \n",
       "max            15.90              1.58         1.00           15.50   \n",
       "\n",
       "       chlorides  free sulfur dioxide  total sulfur dioxide  density       pH  \\\n",
       "count    1143.00              1143.00               1143.00  1143.00  1143.00   \n",
       "mean        0.09                15.62                 45.91     1.00     3.31   \n",
       "std         0.05                10.25                 32.78     0.00     0.16   \n",
       "min         0.01                 1.00                  6.00     0.99     2.74   \n",
       "25%         0.07                 7.00                 21.00     1.00     3.20   \n",
       "50%         0.08                13.00                 37.00     1.00     3.31   \n",
       "75%         0.09                21.00                 61.00     1.00     3.40   \n",
       "max         0.61                68.00                289.00     1.00     4.01   \n",
       "\n",
       "       sulphates  alcohol  quality       Id  \n",
       "count    1143.00  1143.00  1143.00  1143.00  \n",
       "mean        0.66    10.44     5.66   804.97  \n",
       "std         0.17     1.08     0.81   464.00  \n",
       "min         0.33     8.40     3.00     0.00  \n",
       "25%         0.55     9.50     5.00   411.00  \n",
       "50%         0.62    10.20     6.00   794.00  \n",
       "75%         0.73    11.10     6.00  1209.50  \n",
       "max         2.00    14.90     8.00  1597.00  "
      ]
     },
     "execution_count": 6,
     "metadata": {},
     "output_type": "execute_result"
    }
   ],
   "source": [
    "#DataAnalysis and visualization\n",
    "#statistical measure of the dataset\n",
    "df.describe().round(2)"
   ]
  },
  {
   "cell_type": "code",
   "execution_count": 7,
   "id": "3ac116cc",
   "metadata": {
    "execution": {
     "iopub.execute_input": "2023-03-16T19:57:04.914826Z",
     "iopub.status.busy": "2023-03-16T19:57:04.914406Z",
     "iopub.status.idle": "2023-03-16T19:57:05.236213Z",
     "shell.execute_reply": "2023-03-16T19:57:05.234954Z"
    },
    "papermill": {
     "duration": 0.330992,
     "end_time": "2023-03-16T19:57:05.238572",
     "exception": false,
     "start_time": "2023-03-16T19:57:04.907580",
     "status": "completed"
    },
    "tags": []
   },
   "outputs": [
    {
     "data": {
      "image/png": "[encoded data removed]",
      "text/plain": [
       "<Figure size 500x500 with 1 Axes>"
      ]
     },
     "metadata": {},
     "output_type": "display_data"
    }
   ],
   "source": [
    "#number of values for each quality \n",
    "sns.catplot(x='quality',data=df,kind='count')\n",
    "plt.show()"
   ]
  },
  {
   "cell_type": "code",
   "execution_count": 8,
   "id": "9220ddce",
   "metadata": {
    "execution": {
     "iopub.execute_input": "2023-03-16T19:57:05.253574Z",
     "iopub.status.busy": "2023-03-16T19:57:05.252913Z",
     "iopub.status.idle": "2023-03-16T19:57:05.605039Z",
     "shell.execute_reply": "2023-03-16T19:57:05.603768Z"
    },
    "papermill": {
     "duration": 0.362396,
     "end_time": "2023-03-16T19:57:05.607530",
     "exception": false,
     "start_time": "2023-03-16T19:57:05.245134",
     "status": "completed"
    },
    "tags": []
   },
   "outputs": [
    {
     "data": {
      "image/png": "[encoded data removed]",
      "text/plain": [
       "<Figure size 500x500 with 1 Axes>"
      ]
     },
     "metadata": {},
     "output_type": "display_data"
    }
   ],
   "source": [
    "#volatile acidity vs Quality\n",
    "plot=plt.figure(figsize=(5,5))\n",
    "sns.barplot(x='quality',y='volatile acidity',data=df)\n",
    "plt.show()"
   ]
  },
  {
   "cell_type": "code",
   "execution_count": 9,
   "id": "87b59ab3",
   "metadata": {
    "execution": {
     "iopub.execute_input": "2023-03-16T19:57:05.622887Z",
     "iopub.status.busy": "2023-03-16T19:57:05.622491Z",
     "iopub.status.idle": "2023-03-16T19:57:05.965627Z",
     "shell.execute_reply": "2023-03-16T19:57:05.964527Z"
    },
    "papermill": {
     "duration": 0.353874,
     "end_time": "2023-03-16T19:57:05.968273",
     "exception": false,
     "start_time": "2023-03-16T19:57:05.614399",
     "status": "completed"
    },
    "tags": []
   },
   "outputs": [
    {
     "data": {
      "image/png": "[encoded data removed]",
      "text/plain": [
       "<Figure size 500x500 with 1 Axes>"
      ]
     },
     "metadata": {},
     "output_type": "display_data"
    }
   ],
   "source": [
    "# Citric vs Quality\n",
    "plot=plt.figure(figsize=(5,5))\n",
    "sns.barplot(x='quality',y='citric acid',data=df)\n",
    "plt.show()"
   ]
  },
  {
   "cell_type": "code",
   "execution_count": 10,
   "id": "80b89bb4",
   "metadata": {
    "execution": {
     "iopub.execute_input": "2023-03-16T19:57:05.985772Z",
     "iopub.status.busy": "2023-03-16T19:57:05.984568Z",
     "iopub.status.idle": "2023-03-16T19:57:06.000740Z",
     "shell.execute_reply": "2023-03-16T19:57:05.998674Z"
    },
    "papermill": {
     "duration": 0.027049,
     "end_time": "2023-03-16T19:57:06.003401",
     "exception": false,
     "start_time": "2023-03-16T19:57:05.976352",
     "status": "completed"
    },
    "tags": []
   },
   "outputs": [
    {
     "name": "stdout",
     "output_type": "stream",
     "text": [
      "                      fixed acidity  volatile acidity  citric acid  \\\n",
      "fixed acidity              1.000000         -0.250728     0.673157   \n",
      "volatile acidity          -0.250728          1.000000    -0.544187   \n",
      "citric acid                0.673157         -0.544187     1.000000   \n",
      "residual sugar             0.171831         -0.005751     0.175815   \n",
      "chlorides                  0.107889          0.056336     0.245312   \n",
      "free sulfur dioxide       -0.164831         -0.001962    -0.057589   \n",
      "total sulfur dioxide      -0.110628          0.077748     0.036871   \n",
      "density                    0.681501          0.016512     0.375243   \n",
      "pH                        -0.685163          0.221492    -0.546339   \n",
      "sulphates                  0.174592         -0.276079     0.331232   \n",
      "alcohol                   -0.075055         -0.203909     0.106250   \n",
      "quality                    0.121970         -0.407394     0.240821   \n",
      "Id                        -0.275826         -0.007892    -0.139011   \n",
      "\n",
      "                      residual sugar  chlorides  free sulfur dioxide  \\\n",
      "fixed acidity               0.171831   0.107889            -0.164831   \n",
      "volatile acidity           -0.005751   0.056336            -0.001962   \n",
      "citric acid                 0.175815   0.245312            -0.057589   \n",
      "residual sugar              1.000000   0.070863             0.165339   \n",
      "chlorides                   0.070863   1.000000             0.015280   \n",
      "free sulfur dioxide         0.165339   0.015280             1.000000   \n",
      "total sulfur dioxide        0.190790   0.048163             0.661093   \n",
      "density                     0.380147   0.208901            -0.054150   \n",
      "pH                         -0.116959  -0.277759             0.072804   \n",
      "sulphates                   0.017475   0.374784             0.034445   \n",
      "alcohol                     0.058421  -0.229917            -0.047095   \n",
      "quality                     0.022002  -0.124085            -0.063260   \n",
      "Id                         -0.046344  -0.088099             0.095268   \n",
      "\n",
      "                      total sulfur dioxide   density        pH  sulphates  \\\n",
      "fixed acidity                    -0.110628  0.681501 -0.685163   0.174592   \n",
      "volatile acidity                  0.077748  0.016512  0.221492  -0.276079   \n",
      "citric acid                       0.036871  0.375243 -0.546339   0.331232   \n",
      "residual sugar                    0.190790  0.380147 -0.116959   0.017475   \n",
      "chlorides                         0.048163  0.208901 -0.277759   0.374784   \n",
      "free sulfur dioxide               0.661093 -0.054150  0.072804   0.034445   \n",
      "total sulfur dioxide              1.000000  0.050175 -0.059126   0.026894   \n",
      "density                           0.050175  1.000000 -0.352775   0.143139   \n",
      "pH                               -0.059126 -0.352775  1.000000  -0.185499   \n",
      "sulphates                         0.026894  0.143139 -0.185499   1.000000   \n",
      "alcohol                          -0.188165 -0.494727  0.225322   0.094421   \n",
      "quality                          -0.183339 -0.175208 -0.052453   0.257710   \n",
      "Id                               -0.107389 -0.363926  0.132904  -0.103954   \n",
      "\n",
      "                       alcohol   quality        Id  \n",
      "fixed acidity        -0.075055  0.121970 -0.275826  \n",
      "volatile acidity     -0.203909 -0.407394 -0.007892  \n",
      "citric acid           0.106250  0.240821 -0.139011  \n",
      "residual sugar        0.058421  0.022002 -0.046344  \n",
      "chlorides            -0.229917 -0.124085 -0.088099  \n",
      "free sulfur dioxide  -0.047095 -0.063260  0.095268  \n",
      "total sulfur dioxide -0.188165 -0.183339 -0.107389  \n",
      "density              -0.494727 -0.175208 -0.363926  \n",
      "pH                    0.225322 -0.052453  0.132904  \n",
      "sulphates             0.094421  0.257710 -0.103954  \n",
      "alcohol               1.000000  0.484866  0.238087  \n",
      "quality               0.484866  1.000000  0.069708  \n",
      "Id                    0.238087  0.069708  1.000000  \n"
     ]
    }
   ],
   "source": [
    "#correlation\n",
    "corr=df.corr()\n",
    "print(corr)"
   ]
  },
  {
   "cell_type": "code",
   "execution_count": 11,
   "id": "a3de8b9d",
   "metadata": {
    "execution": {
     "iopub.execute_input": "2023-03-16T19:57:06.019174Z",
     "iopub.status.busy": "2023-03-16T19:57:06.018796Z",
     "iopub.status.idle": "2023-03-16T19:57:07.041459Z",
     "shell.execute_reply": "2023-03-16T19:57:07.040502Z"
    },
    "papermill": {
     "duration": 1.035573,
     "end_time": "2023-03-16T19:57:07.046209",
     "exception": false,
     "start_time": "2023-03-16T19:57:06.010636",
     "status": "completed"
    },
    "tags": []
   },
   "outputs": [
    {
     "data": {
      "image/png": "[encoded data removed]",
      "text/plain": [
       "<Figure size 800x800 with 2 Axes>"
      ]
     },
     "metadata": {},
     "output_type": "display_data"
    }
   ],
   "source": [
    "#Heat Map\n",
    "plt.figure(figsize=(8,8))\n",
    "sns.heatmap(df.corr(),annot=True,fmt='0.2f',cmap='Blues')\n",
    "plt.show()"
   ]
  },
  {
   "cell_type": "code",
   "execution_count": 12,
   "id": "bc024f36",
   "metadata": {
    "execution": {
     "iopub.execute_input": "2023-03-16T19:57:07.067980Z",
     "iopub.status.busy": "2023-03-16T19:57:07.067327Z",
     "iopub.status.idle": "2023-03-16T19:57:07.084722Z",
     "shell.execute_reply": "2023-03-16T19:57:07.083496Z"
    },
    "papermill": {
     "duration": 0.031993,
     "end_time": "2023-03-16T19:57:07.088077",
     "exception": false,
     "start_time": "2023-03-16T19:57:07.056084",
     "status": "completed"
    },
    "tags": []
   },
   "outputs": [
    {
     "name": "stdout",
     "output_type": "stream",
     "text": [
      "      fixed acidity  volatile acidity  citric acid  residual sugar  chlorides  \\\n",
      "0               7.4             0.700         0.00             1.9      0.076   \n",
      "1               7.8             0.880         0.00             2.6      0.098   \n",
      "2               7.8             0.760         0.04             2.3      0.092   \n",
      "3              11.2             0.280         0.56             1.9      0.075   \n",
      "4               7.4             0.700         0.00             1.9      0.076   \n",
      "...             ...               ...          ...             ...        ...   \n",
      "1138            6.3             0.510         0.13             2.3      0.076   \n",
      "1139            6.8             0.620         0.08             1.9      0.068   \n",
      "1140            6.2             0.600         0.08             2.0      0.090   \n",
      "1141            5.9             0.550         0.10             2.2      0.062   \n",
      "1142            5.9             0.645         0.12             2.0      0.075   \n",
      "\n",
      "      free sulfur dioxide  total sulfur dioxide  density    pH  sulphates  \\\n",
      "0                    11.0                  34.0  0.99780  3.51       0.56   \n",
      "1                    25.0                  67.0  0.99680  3.20       0.68   \n",
      "2                    15.0                  54.0  0.99700  3.26       0.65   \n",
      "3                    17.0                  60.0  0.99800  3.16       0.58   \n",
      "4                    11.0                  34.0  0.99780  3.51       0.56   \n",
      "...                   ...                   ...      ...   ...        ...   \n",
      "1138                 29.0                  40.0  0.99574  3.42       0.75   \n",
      "1139                 28.0                  38.0  0.99651  3.42       0.82   \n",
      "1140                 32.0                  44.0  0.99490  3.45       0.58   \n",
      "1141                 39.0                  51.0  0.99512  3.52       0.76   \n",
      "1142                 32.0                  44.0  0.99547  3.57       0.71   \n",
      "\n",
      "      alcohol  \n",
      "0         9.4  \n",
      "1         9.8  \n",
      "2         9.8  \n",
      "3         9.8  \n",
      "4         9.4  \n",
      "...       ...  \n",
      "1138     11.0  \n",
      "1139      9.5  \n",
      "1140     10.5  \n",
      "1141     11.2  \n",
      "1142     10.2  \n",
      "\n",
      "[1143 rows x 11 columns]\n",
      "0       0\n",
      "1       0\n",
      "2       0\n",
      "3       1\n",
      "4       0\n",
      "       ..\n",
      "1138    1\n",
      "1139    1\n",
      "1140    0\n",
      "1141    1\n",
      "1142    0\n",
      "Name: quality, Length: 1143, dtype: int64\n"
     ]
    }
   ],
   "source": [
    "#Data preprocessing \n",
    "#separate the data and label\n",
    "X=df.drop(['Id','quality'],axis=1)\n",
    "Y=df['quality'].apply(lambda y_values:1 if y_values>=6 else 0)\n",
    "print(X)\n",
    "print(Y)"
   ]
  },
  {
   "cell_type": "code",
   "execution_count": 13,
   "id": "b5e4864a",
   "metadata": {
    "execution": {
     "iopub.execute_input": "2023-03-16T19:57:07.110696Z",
     "iopub.status.busy": "2023-03-16T19:57:07.110018Z",
     "iopub.status.idle": "2023-03-16T19:57:07.138206Z",
     "shell.execute_reply": "2023-03-16T19:57:07.136774Z"
    },
    "papermill": {
     "duration": 0.043084,
     "end_time": "2023-03-16T19:57:07.141725",
     "exception": false,
     "start_time": "2023-03-16T19:57:07.098641",
     "status": "completed"
    },
    "tags": []
   },
   "outputs": [
    {
     "name": "stdout",
     "output_type": "stream",
     "text": [
      "      fixed acidity  volatile acidity  citric acid  residual sugar  chlorides  \\\n",
      "1130            7.4             0.350         0.33             2.4      0.068   \n",
      "453             9.5             0.885         0.27             2.3      0.084   \n",
      "1072            6.2             0.440         0.39             2.5      0.077   \n",
      "877             6.5             0.670         0.00             4.3      0.057   \n",
      "193             7.9             0.545         0.06             4.0      0.087   \n",
      "...             ...               ...          ...             ...        ...   \n",
      "1099            6.2             0.520         0.08             4.4      0.071   \n",
      "466            10.7             0.430         0.39             2.2      0.106   \n",
      "299             9.5             0.780         0.22             1.9      0.077   \n",
      "493             5.1             0.470         0.02             1.3      0.034   \n",
      "527             9.0             0.690         0.00             2.4      0.088   \n",
      "\n",
      "      free sulfur dioxide  total sulfur dioxide  density    pH  sulphates  \\\n",
      "1130                  9.0                  26.0  0.99470  3.36       0.60   \n",
      "453                  31.0                 145.0  0.99780  3.24       0.53   \n",
      "1072                  6.0                  14.0  0.99555  3.51       0.69   \n",
      "877                  11.0                  20.0  0.99488  3.45       0.56   \n",
      "193                  27.0                  61.0  0.99650  3.36       0.67   \n",
      "...                   ...                   ...      ...   ...        ...   \n",
      "1099                 11.0                  32.0  0.99646  3.56       0.63   \n",
      "466                   8.0                  32.0  0.99860  2.89       0.50   \n",
      "299                   6.0                  32.0  0.99880  3.26       0.56   \n",
      "493                  18.0                  44.0  0.99210  3.90       0.62   \n",
      "527                  19.0                  38.0  0.99900  3.35       0.60   \n",
      "\n",
      "      alcohol  \n",
      "1130     11.9  \n",
      "453       9.4  \n",
      "1072     11.0  \n",
      "877      11.8  \n",
      "193      10.7  \n",
      "...       ...  \n",
      "1099     11.6  \n",
      "466       9.6  \n",
      "299      10.6  \n",
      "493      12.8  \n",
      "527       9.3  \n",
      "\n",
      "[914 rows x 11 columns]      fixed acidity  volatile acidity  citric acid  residual sugar  chlorides  \\\n",
      "835            9.8             0.390         0.43            1.65      0.068   \n",
      "226            7.4             0.360         0.29            2.60      0.087   \n",
      "199           11.4             0.260         0.44            3.60      0.071   \n",
      "158            6.8             0.610         0.04            1.50      0.057   \n",
      "597            6.7             0.280         0.28            2.40      0.012   \n",
      "..             ...               ...          ...             ...        ...   \n",
      "86             7.8             0.500         0.17            1.60      0.082   \n",
      "164            8.5             0.370         0.20            2.80      0.090   \n",
      "99             8.1             0.670         0.55            1.80      0.117   \n",
      "286            7.1             0.735         0.16            1.90      0.100   \n",
      "947            7.2             0.835         0.00            2.00      0.166   \n",
      "\n",
      "     free sulfur dioxide  total sulfur dioxide  density    pH  sulphates  \\\n",
      "835                  5.0                  11.0  0.99478  3.19       0.46   \n",
      "226                 26.0                  72.0  0.99645  3.39       0.68   \n",
      "199                  6.0                  19.0  0.99860  3.12       0.82   \n",
      "158                  5.0                  10.0  0.99525  3.42       0.60   \n",
      "597                 36.0                 100.0  0.99064  3.26       0.39   \n",
      "..                   ...                   ...      ...   ...        ...   \n",
      "86                  21.0                 102.0  0.99600  3.39       0.48   \n",
      "164                 18.0                  58.0  0.99800  3.34       0.70   \n",
      "99                  32.0                 141.0  0.99680  3.17       0.62   \n",
      "286                 15.0                  77.0  0.99660  3.27       0.64   \n",
      "947                  4.0                  11.0  0.99608  3.39       0.52   \n",
      "\n",
      "     alcohol  \n",
      "835     11.4  \n",
      "226     11.0  \n",
      "199      9.3  \n",
      "158      9.5  \n",
      "597     11.7  \n",
      "..       ...  \n",
      "86       9.5  \n",
      "164      9.6  \n",
      "99       9.4  \n",
      "286      9.3  \n",
      "947     10.0  \n",
      "\n",
      "[229 rows x 11 columns] 1130    1\n",
      "453     0\n",
      "1072    1\n",
      "877     0\n",
      "193     1\n",
      "       ..\n",
      "1099    1\n",
      "466     0\n",
      "299     1\n",
      "493     1\n",
      "527     0\n",
      "Name: quality, Length: 914, dtype: int64 835    0\n",
      "226    0\n",
      "199    1\n",
      "158    0\n",
      "597    1\n",
      "      ..\n",
      "86     0\n",
      "164    1\n",
      "99     0\n",
      "286    0\n",
      "947    0\n",
      "Name: quality, Length: 229, dtype: int64\n"
     ]
    }
   ],
   "source": [
    "#Train and test split \n",
    "X_train,X_test,Y_train,Y_test=train_test_split(X,Y,random_state=2,test_size=0.2)\n",
    "print(X_train,X_test,Y_train,Y_test)"
   ]
  },
  {
   "cell_type": "code",
   "execution_count": 14,
   "id": "65ff167c",
   "metadata": {
    "execution": {
     "iopub.execute_input": "2023-03-16T19:57:07.165440Z",
     "iopub.status.busy": "2023-03-16T19:57:07.164206Z",
     "iopub.status.idle": "2023-03-16T19:57:07.436030Z",
     "shell.execute_reply": "2023-03-16T19:57:07.434895Z"
    },
    "papermill": {
     "duration": 0.285458,
     "end_time": "2023-03-16T19:57:07.438407",
     "exception": false,
     "start_time": "2023-03-16T19:57:07.152949",
     "status": "completed"
    },
    "tags": []
   },
   "outputs": [
    {
     "data": {
      "text/plain": [
       "RandomForestClassifier()"
      ]
     },
     "execution_count": 14,
     "metadata": {},
     "output_type": "execute_result"
    }
   ],
   "source": [
    "#Model Training \n",
    "#Random Forest Classifier \n",
    "model=RandomForestClassifier()\n",
    "model.fit(X_train,Y_train)"
   ]
  },
  {
   "cell_type": "code",
   "execution_count": 15,
   "id": "79f35b1e",
   "metadata": {
    "execution": {
     "iopub.execute_input": "2023-03-16T19:57:07.460139Z",
     "iopub.status.busy": "2023-03-16T19:57:07.459313Z",
     "iopub.status.idle": "2023-03-16T19:57:07.485392Z",
     "shell.execute_reply": "2023-03-16T19:57:07.483661Z"
    },
    "papermill": {
     "duration": 0.040664,
     "end_time": "2023-03-16T19:57:07.488853",
     "exception": false,
     "start_time": "2023-03-16T19:57:07.448189",
     "status": "completed"
    },
    "tags": []
   },
   "outputs": [
    {
     "name": "stdout",
     "output_type": "stream",
     "text": [
      "Accuracy: 0.7641921397379913\n"
     ]
    }
   ],
   "source": [
    "#Model Evaluation\n",
    "#accuracy for test data\n",
    "X_test_prediction=model.predict(X_test)\n",
    "test_data_accuracy=accuracy_score(X_test_prediction,Y_test)\n",
    "print(\"Accuracy:\",test_data_accuracy)"
   ]
  },
  {
   "cell_type": "code",
   "execution_count": 18,
   "id": "9cb87596",
   "metadata": {
    "execution": {
     "iopub.execute_input": "2023-03-16T19:57:07.511988Z",
     "iopub.status.busy": "2023-03-16T19:57:07.511594Z",
     "iopub.status.idle": "2023-03-16T19:57:07.532331Z",
     "shell.execute_reply": "2023-03-16T19:57:07.530754Z"
    },
    "papermill": {
     "duration": 0.035746,
     "end_time": "2023-03-16T19:57:07.535220",
     "exception": false,
     "start_time": "2023-03-16T19:57:07.499474",
     "status": "completed"
    },
    "tags": []
   },
   "outputs": [
    {
     "name": "stdout",
     "output_type": "stream",
     "text": [
      "[0]\n",
      "Bad Quality Wine\n"
     ]
    }
   ],
   "source": [
    "#Building a predictive system\n",
    "input_data=(7.4,0.700,0.00,1.9,0.076,11.0,34.0,0.99780,3.51,0.56,9.4)\n",
    "#changing the input data to numpy array\n",
    "input_data_as_numpy_array=np.asarray(input_data)\n",
    "#reshape the data as we are predicting the label for only one instance \n",
    "input_data_reshaped=input_data_as_numpy_array.reshape(1,-1)\n",
    "prediction=model.predict(input_data_reshaped )\n",
    "print(prediction)\n",
    "if(prediction[0]==1):\n",
    "    print('Good Quality Wine')\n",
    "else:\n",
    "    print('Bad Quality Wine')\n"
   ]
  },
  {
   "cell_type": "code",
   "execution_count": 17,
   "id": "6dc76718",
   "metadata": {
    "execution": {
     "iopub.execute_input": "2023-03-16T19:57:07.558717Z",
     "iopub.status.busy": "2023-03-16T19:57:07.558255Z",
     "iopub.status.idle": "2023-03-16T19:57:07.577590Z",
     "shell.execute_reply": "2023-03-16T19:57:07.576242Z"
    },
    "papermill": {
     "duration": 0.034461,
     "end_time": "2023-03-16T19:57:07.580205",
     "exception": false,
     "start_time": "2023-03-16T19:57:07.545744",
     "status": "completed"
    },
    "tags": []
   },
   "outputs": [
    {
     "name": "stdout",
     "output_type": "stream",
     "text": [
      "[1]\n",
      "Good Quality Wine\n"
     ]
    }
   ],
   "source": [
    "#Building a predictive system\n",
    "input_data1=(11.2,0.280,0.56,1.9,0.075,17.0,60.0,0.99800,3.16,0.58,9.8)\n",
    "#changing the input data to numpy array\n",
    "input_data1_as_numpy_array=np.asarray(input_data1)\n",
    "#reshape the data as we are predicting the label for only one instance \n",
    "input_data1_reshaped=input_data1_as_numpy_array.reshape(1,-1)\n",
    "prediction=model.predict(input_data1_reshaped )\n",
    "print(prediction)\n",
    "if(prediction[0]==1):\n",
    "    print('Good Quality Wine')\n",
    "else:\n",
    "    print('Bad Quality Win')"
   ]
  }
 ],
 "metadata": {
  "kernelspec": {
   "display_name": "Python 3 (ipykernel)",
   "language": "python",
   "name": "python3"
  },
  "language_info": {
   "codemirror_mode": {
    "name": "ipython",
    "version": 3
   },
   "file_extension": ".py",
   "mimetype": "text/x-python",
   "name": "python",
   "nbconvert_exporter": "python",
   "pygments_lexer": "ipython3",
   "version": "3.9.13"
  },
  "papermill": {
   "default_parameters": {},
   "duration": 14.643284,
   "end_time": "2023-03-16T19:57:08.413043",
   "environment_variables": {},
   "exception": null,
   "input_path": "__notebook__.ipynb",
   "output_path": "__notebook__.ipynb",
   "parameters": {},
   "start_time": "2023-03-16T19:56:53.769759",
   "version": "2.4.0"
  }
 },
 "nbformat": 4,
 "nbformat_minor": 5
}
